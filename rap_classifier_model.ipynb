{
 "cells": [
  {
   "cell_type": "markdown",
   "id": "dce1ae31",
   "metadata": {},
   "source": [
    "# Deep Learning Project: Image Classification"
   ]
  },
  {
   "cell_type": "markdown",
   "id": "43fece4f",
   "metadata": {},
   "source": [
    "## Step 1: Data Collection\n",
    "For Data Collection, we use a chrome extension known as Fatkun Batch download image, through which we can download a batch of photos from google photos, after searching for the person who's face we would like our algorithm to \"learn\". Once downloaded, we store all of the images as jpegs in directories. This is our dataset"
   ]
  },
  {
   "cell_type": "markdown",
   "id": "922d6c1e",
   "metadata": {},
   "source": [
    "## Step 2: Data Cleaning\n",
    "We will be using OpenCV, an image processing library in Python, as well as Haar Cascade algorithm, to process the image and detect prominent facial characteristics, and discard the iamges that show no clear features or detections."
   ]
  },
  {
   "cell_type": "code",
   "execution_count": 3,
   "id": "aa8ee127",
   "metadata": {},
   "outputs": [],
   "source": [
    "#import all libraries and modules\n",
    "import os\n",
    "import shutil\n",
    "import numpy as np\n",
    "import cv2\n",
    "import matplotlib\n",
    "from matplotlib import pyplot as plt\n",
    "%matplotlib inline "
   ]
  },
  {
   "cell_type": "code",
   "execution_count": 4,
   "id": "4734d797",
   "metadata": {},
   "outputs": [],
   "source": [
    "#Initialize the cascade classifiers, using xmls downloaded and obtained from the CV2 github under haar cascade directory\n",
    "#We will only be detecting the default face as well as eye features\n",
    "face_cascade = cv2.CascadeClassifier('C:\\\\Users\\\\hp\\\\Desktop\\\\rapclassifier\\\\model\\\\opencv\\\\haarcascades\\\\haarcascade_frontalface_default.xml')\n",
    "eye_cascade = cv2.CascadeClassifier('C:\\\\Users\\\\hp\\\\Desktop\\\\rapclassifier\\\\model\\\\opencv\\\\haarcascades\\\\haarcascade_eye.xml')"
   ]
  },
  {
   "cell_type": "code",
   "execution_count": 5,
   "id": "5ca56e64",
   "metadata": {},
   "outputs": [],
   "source": [
    "#Function to detect the face and eye features\n",
    "def get_cropped_image(image_path):\n",
    "    img = cv2.imread(image_path) #Obtain the image\n",
    "    if(img is not None): #If image is accesible\n",
    "        gray = cv2.cvtColor(img, cv2.COLOR_BGR2GRAY) #convert image color to gray\n",
    "        faces = face_cascade.detectMultiScale(gray, 1.3, 5) #obtain the facial portion of the image\n",
    "        for(x, y, w, h) in faces: #iterate through that portion\n",
    "            roi_gray = gray[y:y+h, x:x+w] #obtain the region of interest, i.e. the cropped facial area of that image\n",
    "            roi_color = img[y:y+h, x:x+w] #where only the facial region is present\n",
    "            eyes = eye_cascade.detectMultiScale(roi_gray) #do the same to detect the eyes\n",
    "            if len(eyes) >= 2: #if at least two eyes are detected \n",
    "                return roi_color #return the region of interest "
   ]
  },
  {
   "cell_type": "code",
   "execution_count": 6,
   "id": "14c278b5",
   "metadata": {},
   "outputs": [],
   "source": [
    "#intialize paths\n",
    "path_to_data = \".\\\\imagesdataset\"\n",
    "path_to_cropped_data = \".\\\\imagesdataset\\\\cropped\""
   ]
  },
  {
   "cell_type": "code",
   "execution_count": 7,
   "id": "70e0f92c",
   "metadata": {
    "scrolled": true
   },
   "outputs": [],
   "source": [
    "#Using OS, get the image dataset directories\n",
    "img_dirs = [] #initialize\n",
    "os.chdir('C:\\\\Users\\\\hp\\\\Desktop\\\\rapclassifier\\\\model') #change current directory for ease of access and coding\n",
    "for entry in os.scandir(path_to_data): #scan directory\n",
    "    if entry.is_dir(): #if it exists\n",
    "        img_dirs.append(entry.path) #store the directories in img dir list by appening"
   ]
  },
  {
   "cell_type": "code",
   "execution_count": 8,
   "id": "e4cd2845",
   "metadata": {},
   "outputs": [],
   "source": [
    "#Using shutil, delete the cropped directory if it already exitst (for multiple runs)\n",
    "#and using OS, create that directory to store the cropped images\n",
    "if os.path.exists(path_to_cropped_data):\n",
    "    shutil.rmtree(path_to_cropped_data)\n",
    "os.mkdir(path_to_cropped_data)"
   ]
  },
  {
   "cell_type": "code",
   "execution_count": 9,
   "id": "1d0962f1",
   "metadata": {
    "scrolled": true
   },
   "outputs": [
    {
     "name": "stdout",
     "output_type": "stream",
     "text": [
      "Generating cropped images in folder:  .\\imagesdataset\\cropped\\drake\n",
      "Generating cropped images in folder:  .\\imagesdataset\\cropped\\eminem\n",
      "Generating cropped images in folder:  .\\imagesdataset\\cropped\\ice_spice\n",
      "Generating cropped images in folder:  .\\imagesdataset\\cropped\\nicki_minaj\n",
      "Generating cropped images in folder:  .\\imagesdataset\\cropped\\travis_scott\n"
     ]
    }
   ],
   "source": [
    "#Intialize cropped image directories list and a ditionary for the file names in which each rapper\n",
    "#folder is the key and the values are every single image stored inside that folder\n",
    "cropped_image_dirs = []\n",
    "rapper_file_names = {}\n",
    "#iterate through image directory array\n",
    "for img_dir in img_dirs:\n",
    "    count = 1 #initialize iterator\n",
    "    rapper_name = img_dir.split('\\\\')[-1] #obtain rapper names\n",
    "    rapper_file_names[rapper_name] = [] #intiialize keys for key value pair\n",
    "    for entry in os.scandir(img_dir): #iterate through the directory\n",
    "        roi_color = get_cropped_image(entry.path) #obtain cropped facial portion i.e. region of interest \n",
    "        if roi_color is not None: #if it is detected\n",
    "            cropped_folder = path_to_cropped_data + \"\\\\\" + rapper_name #create new directory in cropped directory\n",
    "            if not os.path.exists(cropped_folder): #if path doesn't already exist\n",
    "                os.makedirs(cropped_folder) #create the new directory in cropped directory to store each rapper's cropped images\n",
    "                cropped_image_dirs.append(cropped_folder) #append to the dictionary\n",
    "                print(\"Generating cropped images in folder: \", cropped_folder) #status updates provided\n",
    "            cropped_file_name = rapper_name + str(count) + \".png\" #intialize name for each image seperately as a png\n",
    "            cropped_file_path = cropped_folder + \"\\\\\" + cropped_file_name #intialize file path\n",
    "            cv2.imwrite(cropped_file_path, roi_color) #write and store the image in the directory\n",
    "            rapper_file_names[rapper_name].append(cropped_file_path) #append the value to the dictionary\n",
    "            count += 1 #iterate"
   ]
  },
  {
   "cell_type": "markdown",
   "id": "57afad75",
   "metadata": {},
   "source": [
    "After this step, manual cleaning must take place for remediation. This can be done through a variety of techniques, such as hiring a workforce, or crowd sourcing platforms. In our case, the data is not too large, hence we can manually clean it ourselves by going through the dataset directories and removing unwanted data or anomalies"
   ]
  },
  {
   "cell_type": "markdown",
   "id": "fc322a6f",
   "metadata": {},
   "source": [
    "## Step 3: Feature Engineering\n",
    "A technique which is most commonly used and effective, known as Wavelet transformation, will be used to extract facial features and create datasets to train the model"
   ]
  },
  {
   "cell_type": "code",
   "execution_count": 22,
   "id": "78c8608f",
   "metadata": {},
   "outputs": [],
   "source": [
    "#import libraries\n",
    "import numpy as np\n",
    "import pywt\n",
    "import cv2"
   ]
  },
  {
   "cell_type": "code",
   "execution_count": 23,
   "id": "01701483",
   "metadata": {},
   "outputs": [],
   "source": [
    "#wavelet transformation function from stackoverflow\n",
    "def w2d(img, mode='haar', level=1):\n",
    "    imArray = img\n",
    "    #Datatype conversions\n",
    "    #convert to grayscale\n",
    "    imArray = cv2.cvtColor( imArray,cv2.COLOR_RGB2GRAY )\n",
    "    #convert to float\n",
    "    imArray =  np.float32(imArray)   \n",
    "    imArray /= 255;\n",
    "    # compute coefficients \n",
    "    coeffs=pywt.wavedec2(imArray, mode, level=level)\n",
    "\n",
    "    #Process Coefficients\n",
    "    coeffs_H=list(coeffs)  \n",
    "    coeffs_H[0] *= 0;  \n",
    "\n",
    "    # reconstruction\n",
    "    imArray_H=pywt.waverec2(coeffs_H, mode);\n",
    "    imArray_H *= 255;\n",
    "    imArray_H =  np.uint8(imArray_H)\n",
    "\n",
    "    return imArray_H #transformed image"
   ]
  },
  {
   "cell_type": "code",
   "execution_count": 26,
   "id": "494e53bb",
   "metadata": {},
   "outputs": [
    {
     "data": {
      "text/plain": [
       "{'drake': ['.\\\\imagesdataset\\\\cropped\\\\drake\\\\drake1.png',\n",
       "  '.\\\\imagesdataset\\\\cropped\\\\drake\\\\drake10.png',\n",
       "  '.\\\\imagesdataset\\\\cropped\\\\drake\\\\drake11.png',\n",
       "  '.\\\\imagesdataset\\\\cropped\\\\drake\\\\drake12.png',\n",
       "  '.\\\\imagesdataset\\\\cropped\\\\drake\\\\drake13.png',\n",
       "  '.\\\\imagesdataset\\\\cropped\\\\drake\\\\drake14.png',\n",
       "  '.\\\\imagesdataset\\\\cropped\\\\drake\\\\drake17.png',\n",
       "  '.\\\\imagesdataset\\\\cropped\\\\drake\\\\drake18.png',\n",
       "  '.\\\\imagesdataset\\\\cropped\\\\drake\\\\drake19.png',\n",
       "  '.\\\\imagesdataset\\\\cropped\\\\drake\\\\drake2.png',\n",
       "  '.\\\\imagesdataset\\\\cropped\\\\drake\\\\drake20.png',\n",
       "  '.\\\\imagesdataset\\\\cropped\\\\drake\\\\drake21.png',\n",
       "  '.\\\\imagesdataset\\\\cropped\\\\drake\\\\drake22.png',\n",
       "  '.\\\\imagesdataset\\\\cropped\\\\drake\\\\drake25.png',\n",
       "  '.\\\\imagesdataset\\\\cropped\\\\drake\\\\drake26.png',\n",
       "  '.\\\\imagesdataset\\\\cropped\\\\drake\\\\drake27.png',\n",
       "  '.\\\\imagesdataset\\\\cropped\\\\drake\\\\drake28.png',\n",
       "  '.\\\\imagesdataset\\\\cropped\\\\drake\\\\drake3.png',\n",
       "  '.\\\\imagesdataset\\\\cropped\\\\drake\\\\drake30.png',\n",
       "  '.\\\\imagesdataset\\\\cropped\\\\drake\\\\drake31.png',\n",
       "  '.\\\\imagesdataset\\\\cropped\\\\drake\\\\drake32.png',\n",
       "  '.\\\\imagesdataset\\\\cropped\\\\drake\\\\drake33.png',\n",
       "  '.\\\\imagesdataset\\\\cropped\\\\drake\\\\drake34.png',\n",
       "  '.\\\\imagesdataset\\\\cropped\\\\drake\\\\drake35.png',\n",
       "  '.\\\\imagesdataset\\\\cropped\\\\drake\\\\drake36.png',\n",
       "  '.\\\\imagesdataset\\\\cropped\\\\drake\\\\drake37.png',\n",
       "  '.\\\\imagesdataset\\\\cropped\\\\drake\\\\drake38.png',\n",
       "  '.\\\\imagesdataset\\\\cropped\\\\drake\\\\drake39.png',\n",
       "  '.\\\\imagesdataset\\\\cropped\\\\drake\\\\drake4.png',\n",
       "  '.\\\\imagesdataset\\\\cropped\\\\drake\\\\drake40.png',\n",
       "  '.\\\\imagesdataset\\\\cropped\\\\drake\\\\drake41.png',\n",
       "  '.\\\\imagesdataset\\\\cropped\\\\drake\\\\drake42.png',\n",
       "  '.\\\\imagesdataset\\\\cropped\\\\drake\\\\drake43.png',\n",
       "  '.\\\\imagesdataset\\\\cropped\\\\drake\\\\drake44.png',\n",
       "  '.\\\\imagesdataset\\\\cropped\\\\drake\\\\drake45.png',\n",
       "  '.\\\\imagesdataset\\\\cropped\\\\drake\\\\drake46.png',\n",
       "  '.\\\\imagesdataset\\\\cropped\\\\drake\\\\drake48.png',\n",
       "  '.\\\\imagesdataset\\\\cropped\\\\drake\\\\drake49.png',\n",
       "  '.\\\\imagesdataset\\\\cropped\\\\drake\\\\drake50.png',\n",
       "  '.\\\\imagesdataset\\\\cropped\\\\drake\\\\drake51.png',\n",
       "  '.\\\\imagesdataset\\\\cropped\\\\drake\\\\drake52.png',\n",
       "  '.\\\\imagesdataset\\\\cropped\\\\drake\\\\drake53.png',\n",
       "  '.\\\\imagesdataset\\\\cropped\\\\drake\\\\drake54.png',\n",
       "  '.\\\\imagesdataset\\\\cropped\\\\drake\\\\drake55.png',\n",
       "  '.\\\\imagesdataset\\\\cropped\\\\drake\\\\drake56.png',\n",
       "  '.\\\\imagesdataset\\\\cropped\\\\drake\\\\drake57.png',\n",
       "  '.\\\\imagesdataset\\\\cropped\\\\drake\\\\drake58.png',\n",
       "  '.\\\\imagesdataset\\\\cropped\\\\drake\\\\drake59.png',\n",
       "  '.\\\\imagesdataset\\\\cropped\\\\drake\\\\drake6.png',\n",
       "  '.\\\\imagesdataset\\\\cropped\\\\drake\\\\drake7.png',\n",
       "  '.\\\\imagesdataset\\\\cropped\\\\drake\\\\drake8.png',\n",
       "  '.\\\\imagesdataset\\\\cropped\\\\drake\\\\drake9.png'],\n",
       " 'eminem': ['.\\\\imagesdataset\\\\cropped\\\\eminem\\\\eminem1.png',\n",
       "  '.\\\\imagesdataset\\\\cropped\\\\eminem\\\\eminem10.png',\n",
       "  '.\\\\imagesdataset\\\\cropped\\\\eminem\\\\eminem12.png',\n",
       "  '.\\\\imagesdataset\\\\cropped\\\\eminem\\\\eminem15.png',\n",
       "  '.\\\\imagesdataset\\\\cropped\\\\eminem\\\\eminem16.png',\n",
       "  '.\\\\imagesdataset\\\\cropped\\\\eminem\\\\eminem18.png',\n",
       "  '.\\\\imagesdataset\\\\cropped\\\\eminem\\\\eminem19.png',\n",
       "  '.\\\\imagesdataset\\\\cropped\\\\eminem\\\\eminem2.png',\n",
       "  '.\\\\imagesdataset\\\\cropped\\\\eminem\\\\eminem20.png',\n",
       "  '.\\\\imagesdataset\\\\cropped\\\\eminem\\\\eminem27.png',\n",
       "  '.\\\\imagesdataset\\\\cropped\\\\eminem\\\\eminem28.png',\n",
       "  '.\\\\imagesdataset\\\\cropped\\\\eminem\\\\eminem29.png',\n",
       "  '.\\\\imagesdataset\\\\cropped\\\\eminem\\\\eminem31.png',\n",
       "  '.\\\\imagesdataset\\\\cropped\\\\eminem\\\\eminem4.png',\n",
       "  '.\\\\imagesdataset\\\\cropped\\\\eminem\\\\eminem5.png',\n",
       "  '.\\\\imagesdataset\\\\cropped\\\\eminem\\\\eminem9.png'],\n",
       " 'ice_spice': ['.\\\\imagesdataset\\\\cropped\\\\ice_spice\\\\ice_spice1.png',\n",
       "  '.\\\\imagesdataset\\\\cropped\\\\ice_spice\\\\ice_spice10.png',\n",
       "  '.\\\\imagesdataset\\\\cropped\\\\ice_spice\\\\ice_spice12.png',\n",
       "  '.\\\\imagesdataset\\\\cropped\\\\ice_spice\\\\ice_spice13.png',\n",
       "  '.\\\\imagesdataset\\\\cropped\\\\ice_spice\\\\ice_spice14.png',\n",
       "  '.\\\\imagesdataset\\\\cropped\\\\ice_spice\\\\ice_spice15.png',\n",
       "  '.\\\\imagesdataset\\\\cropped\\\\ice_spice\\\\ice_spice16.png',\n",
       "  '.\\\\imagesdataset\\\\cropped\\\\ice_spice\\\\ice_spice17.png',\n",
       "  '.\\\\imagesdataset\\\\cropped\\\\ice_spice\\\\ice_spice18.png',\n",
       "  '.\\\\imagesdataset\\\\cropped\\\\ice_spice\\\\ice_spice19.png',\n",
       "  '.\\\\imagesdataset\\\\cropped\\\\ice_spice\\\\ice_spice2.png',\n",
       "  '.\\\\imagesdataset\\\\cropped\\\\ice_spice\\\\ice_spice20.png',\n",
       "  '.\\\\imagesdataset\\\\cropped\\\\ice_spice\\\\ice_spice21.png',\n",
       "  '.\\\\imagesdataset\\\\cropped\\\\ice_spice\\\\ice_spice22.png',\n",
       "  '.\\\\imagesdataset\\\\cropped\\\\ice_spice\\\\ice_spice23.png',\n",
       "  '.\\\\imagesdataset\\\\cropped\\\\ice_spice\\\\ice_spice24.png',\n",
       "  '.\\\\imagesdataset\\\\cropped\\\\ice_spice\\\\ice_spice25.png',\n",
       "  '.\\\\imagesdataset\\\\cropped\\\\ice_spice\\\\ice_spice26.png',\n",
       "  '.\\\\imagesdataset\\\\cropped\\\\ice_spice\\\\ice_spice27.png',\n",
       "  '.\\\\imagesdataset\\\\cropped\\\\ice_spice\\\\ice_spice28.png',\n",
       "  '.\\\\imagesdataset\\\\cropped\\\\ice_spice\\\\ice_spice29.png',\n",
       "  '.\\\\imagesdataset\\\\cropped\\\\ice_spice\\\\ice_spice3.png',\n",
       "  '.\\\\imagesdataset\\\\cropped\\\\ice_spice\\\\ice_spice30.png',\n",
       "  '.\\\\imagesdataset\\\\cropped\\\\ice_spice\\\\ice_spice31.png',\n",
       "  '.\\\\imagesdataset\\\\cropped\\\\ice_spice\\\\ice_spice32.png',\n",
       "  '.\\\\imagesdataset\\\\cropped\\\\ice_spice\\\\ice_spice33.png',\n",
       "  '.\\\\imagesdataset\\\\cropped\\\\ice_spice\\\\ice_spice34.png',\n",
       "  '.\\\\imagesdataset\\\\cropped\\\\ice_spice\\\\ice_spice36.png',\n",
       "  '.\\\\imagesdataset\\\\cropped\\\\ice_spice\\\\ice_spice39.png',\n",
       "  '.\\\\imagesdataset\\\\cropped\\\\ice_spice\\\\ice_spice40.png',\n",
       "  '.\\\\imagesdataset\\\\cropped\\\\ice_spice\\\\ice_spice41.png',\n",
       "  '.\\\\imagesdataset\\\\cropped\\\\ice_spice\\\\ice_spice42.png',\n",
       "  '.\\\\imagesdataset\\\\cropped\\\\ice_spice\\\\ice_spice46.png',\n",
       "  '.\\\\imagesdataset\\\\cropped\\\\ice_spice\\\\ice_spice47.png',\n",
       "  '.\\\\imagesdataset\\\\cropped\\\\ice_spice\\\\ice_spice48.png',\n",
       "  '.\\\\imagesdataset\\\\cropped\\\\ice_spice\\\\ice_spice49.png',\n",
       "  '.\\\\imagesdataset\\\\cropped\\\\ice_spice\\\\ice_spice5.png',\n",
       "  '.\\\\imagesdataset\\\\cropped\\\\ice_spice\\\\ice_spice50.png',\n",
       "  '.\\\\imagesdataset\\\\cropped\\\\ice_spice\\\\ice_spice51.png',\n",
       "  '.\\\\imagesdataset\\\\cropped\\\\ice_spice\\\\ice_spice52.png',\n",
       "  '.\\\\imagesdataset\\\\cropped\\\\ice_spice\\\\ice_spice53.png',\n",
       "  '.\\\\imagesdataset\\\\cropped\\\\ice_spice\\\\ice_spice54.png',\n",
       "  '.\\\\imagesdataset\\\\cropped\\\\ice_spice\\\\ice_spice55.png',\n",
       "  '.\\\\imagesdataset\\\\cropped\\\\ice_spice\\\\ice_spice6.png',\n",
       "  '.\\\\imagesdataset\\\\cropped\\\\ice_spice\\\\ice_spice7.png',\n",
       "  '.\\\\imagesdataset\\\\cropped\\\\ice_spice\\\\ice_spice9.png'],\n",
       " 'nicki_minaj': ['.\\\\imagesdataset\\\\cropped\\\\nicki_minaj\\\\nicki_minaj1.png',\n",
       "  '.\\\\imagesdataset\\\\cropped\\\\nicki_minaj\\\\nicki_minaj10.png',\n",
       "  '.\\\\imagesdataset\\\\cropped\\\\nicki_minaj\\\\nicki_minaj100.png',\n",
       "  '.\\\\imagesdataset\\\\cropped\\\\nicki_minaj\\\\nicki_minaj101.png',\n",
       "  '.\\\\imagesdataset\\\\cropped\\\\nicki_minaj\\\\nicki_minaj102.png',\n",
       "  '.\\\\imagesdataset\\\\cropped\\\\nicki_minaj\\\\nicki_minaj103.png',\n",
       "  '.\\\\imagesdataset\\\\cropped\\\\nicki_minaj\\\\nicki_minaj104.png',\n",
       "  '.\\\\imagesdataset\\\\cropped\\\\nicki_minaj\\\\nicki_minaj106.png',\n",
       "  '.\\\\imagesdataset\\\\cropped\\\\nicki_minaj\\\\nicki_minaj109.png',\n",
       "  '.\\\\imagesdataset\\\\cropped\\\\nicki_minaj\\\\nicki_minaj11.png',\n",
       "  '.\\\\imagesdataset\\\\cropped\\\\nicki_minaj\\\\nicki_minaj110.png',\n",
       "  '.\\\\imagesdataset\\\\cropped\\\\nicki_minaj\\\\nicki_minaj111.png',\n",
       "  '.\\\\imagesdataset\\\\cropped\\\\nicki_minaj\\\\nicki_minaj116.png',\n",
       "  '.\\\\imagesdataset\\\\cropped\\\\nicki_minaj\\\\nicki_minaj119.png',\n",
       "  '.\\\\imagesdataset\\\\cropped\\\\nicki_minaj\\\\nicki_minaj12.png',\n",
       "  '.\\\\imagesdataset\\\\cropped\\\\nicki_minaj\\\\nicki_minaj121.png',\n",
       "  '.\\\\imagesdataset\\\\cropped\\\\nicki_minaj\\\\nicki_minaj13.png',\n",
       "  '.\\\\imagesdataset\\\\cropped\\\\nicki_minaj\\\\nicki_minaj14.png',\n",
       "  '.\\\\imagesdataset\\\\cropped\\\\nicki_minaj\\\\nicki_minaj15.png',\n",
       "  '.\\\\imagesdataset\\\\cropped\\\\nicki_minaj\\\\nicki_minaj16.png',\n",
       "  '.\\\\imagesdataset\\\\cropped\\\\nicki_minaj\\\\nicki_minaj17.png',\n",
       "  '.\\\\imagesdataset\\\\cropped\\\\nicki_minaj\\\\nicki_minaj18.png',\n",
       "  '.\\\\imagesdataset\\\\cropped\\\\nicki_minaj\\\\nicki_minaj19.png',\n",
       "  '.\\\\imagesdataset\\\\cropped\\\\nicki_minaj\\\\nicki_minaj2.png',\n",
       "  '.\\\\imagesdataset\\\\cropped\\\\nicki_minaj\\\\nicki_minaj20.png',\n",
       "  '.\\\\imagesdataset\\\\cropped\\\\nicki_minaj\\\\nicki_minaj21.png',\n",
       "  '.\\\\imagesdataset\\\\cropped\\\\nicki_minaj\\\\nicki_minaj22.png',\n",
       "  '.\\\\imagesdataset\\\\cropped\\\\nicki_minaj\\\\nicki_minaj23.png',\n",
       "  '.\\\\imagesdataset\\\\cropped\\\\nicki_minaj\\\\nicki_minaj24.png',\n",
       "  '.\\\\imagesdataset\\\\cropped\\\\nicki_minaj\\\\nicki_minaj26.png',\n",
       "  '.\\\\imagesdataset\\\\cropped\\\\nicki_minaj\\\\nicki_minaj29.png',\n",
       "  '.\\\\imagesdataset\\\\cropped\\\\nicki_minaj\\\\nicki_minaj3.png',\n",
       "  '.\\\\imagesdataset\\\\cropped\\\\nicki_minaj\\\\nicki_minaj32.png',\n",
       "  '.\\\\imagesdataset\\\\cropped\\\\nicki_minaj\\\\nicki_minaj33.png',\n",
       "  '.\\\\imagesdataset\\\\cropped\\\\nicki_minaj\\\\nicki_minaj35.png',\n",
       "  '.\\\\imagesdataset\\\\cropped\\\\nicki_minaj\\\\nicki_minaj36.png',\n",
       "  '.\\\\imagesdataset\\\\cropped\\\\nicki_minaj\\\\nicki_minaj37.png',\n",
       "  '.\\\\imagesdataset\\\\cropped\\\\nicki_minaj\\\\nicki_minaj39.png',\n",
       "  '.\\\\imagesdataset\\\\cropped\\\\nicki_minaj\\\\nicki_minaj4.png',\n",
       "  '.\\\\imagesdataset\\\\cropped\\\\nicki_minaj\\\\nicki_minaj40.png',\n",
       "  '.\\\\imagesdataset\\\\cropped\\\\nicki_minaj\\\\nicki_minaj42.png',\n",
       "  '.\\\\imagesdataset\\\\cropped\\\\nicki_minaj\\\\nicki_minaj43.png',\n",
       "  '.\\\\imagesdataset\\\\cropped\\\\nicki_minaj\\\\nicki_minaj44.png',\n",
       "  '.\\\\imagesdataset\\\\cropped\\\\nicki_minaj\\\\nicki_minaj45.png',\n",
       "  '.\\\\imagesdataset\\\\cropped\\\\nicki_minaj\\\\nicki_minaj46.png',\n",
       "  '.\\\\imagesdataset\\\\cropped\\\\nicki_minaj\\\\nicki_minaj47.png',\n",
       "  '.\\\\imagesdataset\\\\cropped\\\\nicki_minaj\\\\nicki_minaj48.png',\n",
       "  '.\\\\imagesdataset\\\\cropped\\\\nicki_minaj\\\\nicki_minaj49.png',\n",
       "  '.\\\\imagesdataset\\\\cropped\\\\nicki_minaj\\\\nicki_minaj5.png',\n",
       "  '.\\\\imagesdataset\\\\cropped\\\\nicki_minaj\\\\nicki_minaj50.png',\n",
       "  '.\\\\imagesdataset\\\\cropped\\\\nicki_minaj\\\\nicki_minaj51.png',\n",
       "  '.\\\\imagesdataset\\\\cropped\\\\nicki_minaj\\\\nicki_minaj52.png',\n",
       "  '.\\\\imagesdataset\\\\cropped\\\\nicki_minaj\\\\nicki_minaj53.png',\n",
       "  '.\\\\imagesdataset\\\\cropped\\\\nicki_minaj\\\\nicki_minaj54.png',\n",
       "  '.\\\\imagesdataset\\\\cropped\\\\nicki_minaj\\\\nicki_minaj56.png',\n",
       "  '.\\\\imagesdataset\\\\cropped\\\\nicki_minaj\\\\nicki_minaj57.png',\n",
       "  '.\\\\imagesdataset\\\\cropped\\\\nicki_minaj\\\\nicki_minaj58.png',\n",
       "  '.\\\\imagesdataset\\\\cropped\\\\nicki_minaj\\\\nicki_minaj6.png',\n",
       "  '.\\\\imagesdataset\\\\cropped\\\\nicki_minaj\\\\nicki_minaj60.png',\n",
       "  '.\\\\imagesdataset\\\\cropped\\\\nicki_minaj\\\\nicki_minaj63.png',\n",
       "  '.\\\\imagesdataset\\\\cropped\\\\nicki_minaj\\\\nicki_minaj65.png',\n",
       "  '.\\\\imagesdataset\\\\cropped\\\\nicki_minaj\\\\nicki_minaj66.png',\n",
       "  '.\\\\imagesdataset\\\\cropped\\\\nicki_minaj\\\\nicki_minaj67.png',\n",
       "  '.\\\\imagesdataset\\\\cropped\\\\nicki_minaj\\\\nicki_minaj68.png',\n",
       "  '.\\\\imagesdataset\\\\cropped\\\\nicki_minaj\\\\nicki_minaj69.png',\n",
       "  '.\\\\imagesdataset\\\\cropped\\\\nicki_minaj\\\\nicki_minaj70.png',\n",
       "  '.\\\\imagesdataset\\\\cropped\\\\nicki_minaj\\\\nicki_minaj71.png',\n",
       "  '.\\\\imagesdataset\\\\cropped\\\\nicki_minaj\\\\nicki_minaj72.png',\n",
       "  '.\\\\imagesdataset\\\\cropped\\\\nicki_minaj\\\\nicki_minaj73.png',\n",
       "  '.\\\\imagesdataset\\\\cropped\\\\nicki_minaj\\\\nicki_minaj74.png',\n",
       "  '.\\\\imagesdataset\\\\cropped\\\\nicki_minaj\\\\nicki_minaj75.png',\n",
       "  '.\\\\imagesdataset\\\\cropped\\\\nicki_minaj\\\\nicki_minaj77.png',\n",
       "  '.\\\\imagesdataset\\\\cropped\\\\nicki_minaj\\\\nicki_minaj79.png',\n",
       "  '.\\\\imagesdataset\\\\cropped\\\\nicki_minaj\\\\nicki_minaj8.png',\n",
       "  '.\\\\imagesdataset\\\\cropped\\\\nicki_minaj\\\\nicki_minaj80.png',\n",
       "  '.\\\\imagesdataset\\\\cropped\\\\nicki_minaj\\\\nicki_minaj82.png',\n",
       "  '.\\\\imagesdataset\\\\cropped\\\\nicki_minaj\\\\nicki_minaj83.png',\n",
       "  '.\\\\imagesdataset\\\\cropped\\\\nicki_minaj\\\\nicki_minaj84.png',\n",
       "  '.\\\\imagesdataset\\\\cropped\\\\nicki_minaj\\\\nicki_minaj85.png',\n",
       "  '.\\\\imagesdataset\\\\cropped\\\\nicki_minaj\\\\nicki_minaj86.png',\n",
       "  '.\\\\imagesdataset\\\\cropped\\\\nicki_minaj\\\\nicki_minaj87.png',\n",
       "  '.\\\\imagesdataset\\\\cropped\\\\nicki_minaj\\\\nicki_minaj88.png',\n",
       "  '.\\\\imagesdataset\\\\cropped\\\\nicki_minaj\\\\nicki_minaj9.png',\n",
       "  '.\\\\imagesdataset\\\\cropped\\\\nicki_minaj\\\\nicki_minaj90.png',\n",
       "  '.\\\\imagesdataset\\\\cropped\\\\nicki_minaj\\\\nicki_minaj91.png',\n",
       "  '.\\\\imagesdataset\\\\cropped\\\\nicki_minaj\\\\nicki_minaj92.png',\n",
       "  '.\\\\imagesdataset\\\\cropped\\\\nicki_minaj\\\\nicki_minaj93.png',\n",
       "  '.\\\\imagesdataset\\\\cropped\\\\nicki_minaj\\\\nicki_minaj96.png',\n",
       "  '.\\\\imagesdataset\\\\cropped\\\\nicki_minaj\\\\nicki_minaj97.png',\n",
       "  '.\\\\imagesdataset\\\\cropped\\\\nicki_minaj\\\\nicki_minaj98.png',\n",
       "  '.\\\\imagesdataset\\\\cropped\\\\nicki_minaj\\\\nicki_minaj99.png'],\n",
       " 'travis_scott': ['.\\\\imagesdataset\\\\cropped\\\\travis_scott\\\\travis_scott1.png',\n",
       "  '.\\\\imagesdataset\\\\cropped\\\\travis_scott\\\\travis_scott10.png',\n",
       "  '.\\\\imagesdataset\\\\cropped\\\\travis_scott\\\\travis_scott16.png',\n",
       "  '.\\\\imagesdataset\\\\cropped\\\\travis_scott\\\\travis_scott18.png',\n",
       "  '.\\\\imagesdataset\\\\cropped\\\\travis_scott\\\\travis_scott21.png',\n",
       "  '.\\\\imagesdataset\\\\cropped\\\\travis_scott\\\\travis_scott22.png',\n",
       "  '.\\\\imagesdataset\\\\cropped\\\\travis_scott\\\\travis_scott24.png',\n",
       "  '.\\\\imagesdataset\\\\cropped\\\\travis_scott\\\\travis_scott25.png',\n",
       "  '.\\\\imagesdataset\\\\cropped\\\\travis_scott\\\\travis_scott26.png',\n",
       "  '.\\\\imagesdataset\\\\cropped\\\\travis_scott\\\\travis_scott28.png',\n",
       "  '.\\\\imagesdataset\\\\cropped\\\\travis_scott\\\\travis_scott3.png',\n",
       "  '.\\\\imagesdataset\\\\cropped\\\\travis_scott\\\\travis_scott4.png',\n",
       "  '.\\\\imagesdataset\\\\cropped\\\\travis_scott\\\\travis_scott5.png',\n",
       "  '.\\\\imagesdataset\\\\cropped\\\\travis_scott\\\\travis_scott6.png',\n",
       "  '.\\\\imagesdataset\\\\cropped\\\\travis_scott\\\\travis_scott7.png',\n",
       "  '.\\\\imagesdataset\\\\cropped\\\\travis_scott\\\\travis_scott8.png']}"
      ]
     },
     "execution_count": 26,
     "metadata": {},
     "output_type": "execute_result"
    }
   ],
   "source": [
    "rapper_file_names = {}\n",
    "for img_dir in cropped_image_dirs:\n",
    "    rapper_name = img_dir.split('\\\\')[-1]\n",
    "    file_list = []\n",
    "    for entry in os.scandir(img_dir):\n",
    "        file_list.append(entry.path)\n",
    "    rapper_file_names[rapper_name] = file_list"
   ]
  },
  {
   "cell_type": "code",
   "execution_count": 27,
   "id": "374adfa6",
   "metadata": {},
   "outputs": [],
   "source": [
    "#Assign each rapper with a number using a dictionary, so we can use it later in the y classifier\n",
    "rapper_dict = {}\n",
    "count = 0 \n",
    "for rapper_name in rapper_file_names.keys():\n",
    "    rapper_dict[rapper_name] = count\n",
    "    count += 1"
   ]
  },
  {
   "cell_type": "code",
   "execution_count": 29,
   "id": "25b4b026",
   "metadata": {},
   "outputs": [
    {
     "data": {
      "text/plain": [
       "(221, 4096)"
      ]
     },
     "execution_count": 29,
     "metadata": {},
     "output_type": "execute_result"
    }
   ],
   "source": [
    "#obtain the layered images of the raw image along with the wavelet images to for our X and Y for model training\n",
    "x = [] #initilaize x\n",
    "y = [] #initialize y\n",
    "for rapper_name, training_files in rapper_file_names.items(): #iterate through each image file for each rapper\n",
    "    for training_image in training_files: #iterate through each image\n",
    "        img = cv2.imread(training_image) #read the image\n",
    "        scaled_raw_img = cv2.resize(img, (32, 32)) #scale the image\n",
    "        img_har = w2d(img, 'db1', 5) #obtain the wavelet transformed image through our function\n",
    "        scaled_img_har = cv2.resize(img_har, (32, 32)) #scale the wavelet transformed image\n",
    "        combined_img = np.vstack((scaled_raw_img.reshape(32*32*3,1), scaled_img_har.reshape(32*32,1))) #layer both the obtained images\n",
    "        x.append(combined_img) #append obtained image to x\n",
    "        y.append(rapper_dict[rapper_name]) #append rapper name indicator digit to y\n",
    "x = np.array(x).reshape(len(x), 4096).astype(float) #convert the value to float for sklearn "
   ]
  },
  {
   "cell_type": "markdown",
   "id": "0745bc68",
   "metadata": {},
   "source": [
    "## Step 4: Model Training\n",
    "Now that we have obtained X and Y, we are ready to train our model. We will use support vector machines with rbf kernel tuned with heuristic finetuning to do the same "
   ]
  },
  {
   "cell_type": "code",
   "execution_count": 38,
   "id": "3c99a120",
   "metadata": {},
   "outputs": [],
   "source": [
    "#import modules and libraries\n",
    "from sklearn.svm import SVC\n",
    "from sklearn.preprocessing import StandardScaler\n",
    "from sklearn.model_selection import train_test_split\n",
    "from sklearn.pipeline import Pipeline\n",
    "from sklearn.metrics import classification_report"
   ]
  },
  {
   "cell_type": "code",
   "execution_count": 39,
   "id": "d2b04540",
   "metadata": {},
   "outputs": [
    {
     "name": "stdout",
     "output_type": "stream",
     "text": [
      "              precision    recall  f1-score   support\n",
      "\n",
      "           0       1.00      0.80      0.89        10\n",
      "           1       1.00      0.25      0.40         4\n",
      "           2       0.92      0.79      0.85        14\n",
      "           3       0.76      0.96      0.85        26\n",
      "           4       0.50      0.50      0.50         2\n",
      "\n",
      "    accuracy                           0.82        56\n",
      "   macro avg       0.83      0.66      0.70        56\n",
      "weighted avg       0.85      0.82      0.81        56\n",
      "\n"
     ]
    }
   ],
   "source": [
    "x_train, x_test, y_train, y_test = train_test_split(x,y, random_state=0) #create the train test set split\n",
    "pipe = Pipeline([('scaler', StandardScaler()), ('scv', SVC(kernel = 'linear', C = 10))]) #Use pipeline to scale. svm classification, parameters chosen are random\n",
    "pipe.fit(x_train, y_train) #fit the data to the classifier\n",
    "print(classification_report(y_test, pipe.predict(x_test))) #print out a classification report "
   ]
  },
  {
   "cell_type": "markdown",
   "id": "e2ff348b",
   "metadata": {},
   "source": [
    "## Step 5: Model Selection\n",
    "We use grid search cross validation to try out different models and select the one with best performance"
   ]
  },
  {
   "cell_type": "code",
   "execution_count": 57,
   "id": "9c641237",
   "metadata": {},
   "outputs": [],
   "source": [
    "#import modules and libraries\n",
    "from sklearn import svm\n",
    "from sklearn.ensemble import RandomForestClassifier\n",
    "from sklearn.linear_model import LogisticRegression\n",
    "from sklearn.pipeline import make_pipeline\n",
    "from sklearn.model_selection import GridSearchCV\n",
    "from sklearn.metrics import confusion_matrix\n",
    "import pandas as pd\n",
    "import seaborn as sn"
   ]
  },
  {
   "cell_type": "code",
   "execution_count": 54,
   "id": "b49c749e",
   "metadata": {},
   "outputs": [],
   "source": [
    "#define different candidate models\n",
    "model_params = {\n",
    "    'svm': { #Support vector machine\n",
    "        'model': svm.SVC(gamma='auto',probability=True),\n",
    "        'params' : { #parameters\n",
    "            'svc__C': [1,10,100,1000],\n",
    "            'svc__kernel': ['rbf','linear']\n",
    "        }  \n",
    "    },\n",
    "    'random_forest': { #random forest\n",
    "        'model': RandomForestClassifier(),\n",
    "        'params' : { #parameters\n",
    "            'randomforestclassifier__n_estimators': [1,5,10]\n",
    "        } \n",
    "    },\n",
    "    'logistic_regression' : { #logistic regression\n",
    "        'model': LogisticRegression(solver='liblinear',multi_class='auto'),\n",
    "        'params': { #parameters\n",
    "            'logisticregression__C': [1,5,10]\n",
    "        } \n",
    "    }\n",
    "}"
   ]
  },
  {
   "cell_type": "code",
   "execution_count": 55,
   "id": "063594a9",
   "metadata": {},
   "outputs": [
    {
     "data": {
      "text/html": [
       "<div>\n",
       "<style scoped>\n",
       "    .dataframe tbody tr th:only-of-type {\n",
       "        vertical-align: middle;\n",
       "    }\n",
       "\n",
       "    .dataframe tbody tr th {\n",
       "        vertical-align: top;\n",
       "    }\n",
       "\n",
       "    .dataframe thead th {\n",
       "        text-align: right;\n",
       "    }\n",
       "</style>\n",
       "<table border=\"1\" class=\"dataframe\">\n",
       "  <thead>\n",
       "    <tr style=\"text-align: right;\">\n",
       "      <th></th>\n",
       "      <th>model</th>\n",
       "      <th>best_score</th>\n",
       "      <th>best_params</th>\n",
       "    </tr>\n",
       "  </thead>\n",
       "  <tbody>\n",
       "    <tr>\n",
       "      <th>0</th>\n",
       "      <td>svm</td>\n",
       "      <td>0.836364</td>\n",
       "      <td>{'svc__C': 1, 'svc__kernel': 'linear'}</td>\n",
       "    </tr>\n",
       "    <tr>\n",
       "      <th>1</th>\n",
       "      <td>random_forest</td>\n",
       "      <td>0.787879</td>\n",
       "      <td>{'randomforestclassifier__n_estimators': 10}</td>\n",
       "    </tr>\n",
       "    <tr>\n",
       "      <th>2</th>\n",
       "      <td>logistic_regression</td>\n",
       "      <td>0.842424</td>\n",
       "      <td>{'logisticregression__C': 1}</td>\n",
       "    </tr>\n",
       "  </tbody>\n",
       "</table>\n",
       "</div>"
      ],
      "text/plain": [
       "                 model  best_score  \\\n",
       "0                  svm    0.836364   \n",
       "1        random_forest    0.787879   \n",
       "2  logistic_regression    0.842424   \n",
       "\n",
       "                                    best_params  \n",
       "0        {'svc__C': 1, 'svc__kernel': 'linear'}  \n",
       "1  {'randomforestclassifier__n_estimators': 10}  \n",
       "2                  {'logisticregression__C': 1}  "
      ]
     },
     "execution_count": 55,
     "metadata": {},
     "output_type": "execute_result"
    }
   ],
   "source": [
    "#Grid search CV\n",
    "scores = [] \n",
    "best_estimators = {} \n",
    "for algo, mp in model_params.items(): #iterate through each parameter and combination\n",
    "    pipe = make_pipeline(StandardScaler(), mp['model']) #scale using pipeline\n",
    "    clf =  GridSearchCV(pipe, mp['params'], cv=5, return_train_score=False) #k tenfold cross validation\n",
    "    clf.fit(x_train, y_train) #train the models\n",
    "    scores.append({ #append the best scores\n",
    "        'model': algo,\n",
    "        'best_score': clf.best_score_,\n",
    "        'best_params': clf.best_params_\n",
    "    })\n",
    "    best_estimators[algo] = clf.best_estimator_\n",
    "    \n",
    "df = pd.DataFrame(scores,columns=['model','best_score','best_params']) #create a dataframe of the recieved data\n",
    "df #use this to note the cross validation score"
   ]
  },
  {
   "cell_type": "code",
   "execution_count": 56,
   "id": "00403ad1",
   "metadata": {},
   "outputs": [
    {
     "name": "stdout",
     "output_type": "stream",
     "text": [
      "0.8392857142857143\n",
      "0.8392857142857143\n",
      "0.8035714285714286\n"
     ]
    }
   ],
   "source": [
    "#find out the scores on the test sets\n",
    "print(best_estimators['svm'].score(x_test, y_test))\n",
    "print(best_estimators['random_forest'].score(x_test, y_test))\n",
    "print(best_estimators['logistic_regression'].score(x_test, y_test))"
   ]
  },
  {
   "cell_type": "code",
   "execution_count": 58,
   "id": "97a04541",
   "metadata": {
    "scrolled": true
   },
   "outputs": [
    {
     "data": {
      "text/plain": [
       "Text(95.72222222222221, 0.5, 'ACTUAL')"
      ]
     },
     "execution_count": 58,
     "metadata": {},
     "output_type": "execute_result"
    },
    {
     "data": {
      "image/png": "[encoded data removed]",
      "text/plain": [
       "<Figure size 1000x700 with 2 Axes>"
      ]
     },
     "metadata": {},
     "output_type": "display_data"
    }
   ],
   "source": [
    "#svm is giving the highest score in both the cases hence it is the definite answer \n",
    "#use seaborn to plot the confusion matrix\n",
    "best_classifier = best_estimators['svm']\n",
    "plt.figure(figsize = (10,7))\n",
    "sn.heatmap(confusion_matrix(y_test, best_classifier.predict(x_test)), annot = True)\n",
    "plt.xlabel('PREDICTED')\n",
    "plt.ylabel('ACTUAL')"
   ]
  },
  {
   "cell_type": "markdown",
   "id": "49407c62",
   "metadata": {},
   "source": [
    "## Step 6: Saving the model"
   ]
  },
  {
   "cell_type": "code",
   "execution_count": 63,
   "id": "00bad0ac",
   "metadata": {},
   "outputs": [],
   "source": [
    "#import modules and libraries\n",
    "import joblib\n",
    "import json"
   ]
  },
  {
   "cell_type": "code",
   "execution_count": 61,
   "id": "f99d0d79",
   "metadata": {},
   "outputs": [
    {
     "data": {
      "text/plain": [
       "['saved_model.pkl']"
      ]
     },
     "execution_count": 61,
     "metadata": {},
     "output_type": "execute_result"
    }
   ],
   "source": [
    "#save trained model\n",
    "joblib.dump(best_classifier, 'saved_model.pkl') #save the model as a pickle in a file"
   ]
  },
  {
   "cell_type": "code",
   "execution_count": 65,
   "id": "06d2f98f",
   "metadata": {},
   "outputs": [],
   "source": [
    "#save class dictionary\n",
    "with open(\"class_dictionary.json\", \"w\") as f:\n",
    "    f.write(json.dumps(rapper_dict))"
   ]
  },
  {
   "cell_type": "code",
   "execution_count": null,
   "id": "a25aa631",
   "metadata": {},
   "outputs": [],
   "source": []
  }
 ],
 "metadata": {
  "kernelspec": {
   "display_name": "Python 3 (ipykernel)",
   "language": "python",
   "name": "python3"
  },
  "language_info": {
   "codemirror_mode": {
    "name": "ipython",
    "version": 3
   },
   "file_extension": ".py",
   "mimetype": "text/x-python",
   "name": "python",
   "nbconvert_exporter": "python",
   "pygments_lexer": "ipython3",
   "version": "3.9.13"
  }
 },
 "nbformat": 4,
 "nbformat_minor": 5
}
